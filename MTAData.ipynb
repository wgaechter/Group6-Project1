{
 "metadata": {
  "language_info": {
   "codemirror_mode": {
    "name": "ipython",
    "version": 3
   },
   "file_extension": ".py",
   "mimetype": "text/x-python",
   "name": "python",
   "nbconvert_exporter": "python",
   "pygments_lexer": "ipython3",
   "version": "3.8.5-final"
  },
  "orig_nbformat": 2,
  "kernelspec": {
   "name": "pythondata",
   "display_name": "(PythonData)"
  }
 },
 "nbformat": 4,
 "nbformat_minor": 2,
 "cells": [
  {
   "cell_type": "code",
   "execution_count": 46,
   "metadata": {},
   "outputs": [],
   "source": [
    "import pandas as pd \n",
    "import matplotlib.pyplot as plt"
   ]
  },
  {
   "cell_type": "code",
   "execution_count": 47,
   "metadata": {},
   "outputs": [],
   "source": [
    "mta_df = pd.read_csv(\"body.csv\")"
   ]
  },
  {
   "cell_type": "code",
   "execution_count": 48,
   "metadata": {},
   "outputs": [
    {
     "output_type": "execute_result",
     "data": {
      "text/plain": [
       "                stop_name daytime_routes division     line borough structure  \\\n",
       "0  Astoria - Ditmars Blvd            N W      BMT  Astoria       Q  Elevated   \n",
       "1  Astoria - Ditmars Blvd            N W      BMT  Astoria       Q  Elevated   \n",
       "2  Astoria - Ditmars Blvd            N W      BMT  Astoria       Q  Elevated   \n",
       "3  Astoria - Ditmars Blvd            N W      BMT  Astoria       Q  Elevated   \n",
       "4  Astoria - Ditmars Blvd            N W      BMT  Astoria       Q  Elevated   \n",
       "\n",
       "   gtfs_longitude  gtfs_latitude complex_id        date  entries    exits  \n",
       "0      -73.912034      40.775036          1  2020-01-01   5812.0   6659.0  \n",
       "1      -73.912034      40.775036          1  2020-01-02  15506.0  14307.0  \n",
       "2      -73.912034      40.775036          1  2020-01-03  15959.0  14500.0  \n",
       "3      -73.912034      40.775036          1  2020-01-04   9265.0   9161.0  \n",
       "4      -73.912034      40.775036          1  2020-01-05   7191.0   7743.0  "
      ],
      "text/html": "<div>\n<style scoped>\n    .dataframe tbody tr th:only-of-type {\n        vertical-align: middle;\n    }\n\n    .dataframe tbody tr th {\n        vertical-align: top;\n    }\n\n    .dataframe thead th {\n        text-align: right;\n    }\n</style>\n<table border=\"1\" class=\"dataframe\">\n  <thead>\n    <tr style=\"text-align: right;\">\n      <th></th>\n      <th>stop_name</th>\n      <th>daytime_routes</th>\n      <th>division</th>\n      <th>line</th>\n      <th>borough</th>\n      <th>structure</th>\n      <th>gtfs_longitude</th>\n      <th>gtfs_latitude</th>\n      <th>complex_id</th>\n      <th>date</th>\n      <th>entries</th>\n      <th>exits</th>\n    </tr>\n  </thead>\n  <tbody>\n    <tr>\n      <th>0</th>\n      <td>Astoria - Ditmars Blvd</td>\n      <td>N W</td>\n      <td>BMT</td>\n      <td>Astoria</td>\n      <td>Q</td>\n      <td>Elevated</td>\n      <td>-73.912034</td>\n      <td>40.775036</td>\n      <td>1</td>\n      <td>2020-01-01</td>\n      <td>5812.0</td>\n      <td>6659.0</td>\n    </tr>\n    <tr>\n      <th>1</th>\n      <td>Astoria - Ditmars Blvd</td>\n      <td>N W</td>\n      <td>BMT</td>\n      <td>Astoria</td>\n      <td>Q</td>\n      <td>Elevated</td>\n      <td>-73.912034</td>\n      <td>40.775036</td>\n      <td>1</td>\n      <td>2020-01-02</td>\n      <td>15506.0</td>\n      <td>14307.0</td>\n    </tr>\n    <tr>\n      <th>2</th>\n      <td>Astoria - Ditmars Blvd</td>\n      <td>N W</td>\n      <td>BMT</td>\n      <td>Astoria</td>\n      <td>Q</td>\n      <td>Elevated</td>\n      <td>-73.912034</td>\n      <td>40.775036</td>\n      <td>1</td>\n      <td>2020-01-03</td>\n      <td>15959.0</td>\n      <td>14500.0</td>\n    </tr>\n    <tr>\n      <th>3</th>\n      <td>Astoria - Ditmars Blvd</td>\n      <td>N W</td>\n      <td>BMT</td>\n      <td>Astoria</td>\n      <td>Q</td>\n      <td>Elevated</td>\n      <td>-73.912034</td>\n      <td>40.775036</td>\n      <td>1</td>\n      <td>2020-01-04</td>\n      <td>9265.0</td>\n      <td>9161.0</td>\n    </tr>\n    <tr>\n      <th>4</th>\n      <td>Astoria - Ditmars Blvd</td>\n      <td>N W</td>\n      <td>BMT</td>\n      <td>Astoria</td>\n      <td>Q</td>\n      <td>Elevated</td>\n      <td>-73.912034</td>\n      <td>40.775036</td>\n      <td>1</td>\n      <td>2020-01-05</td>\n      <td>7191.0</td>\n      <td>7743.0</td>\n    </tr>\n  </tbody>\n</table>\n</div>"
     },
     "metadata": {},
     "execution_count": 48
    }
   ],
   "source": [
    "mta_df.head()"
   ]
  },
  {
   "cell_type": "code",
   "execution_count": 49,
   "metadata": {},
   "outputs": [
    {
     "output_type": "execute_result",
     "data": {
      "text/plain": [
       "                         stop_name daytime_routes division     line borough  \\\n",
       "date                                                                          \n",
       "2020-01-01  Astoria - Ditmars Blvd            N W      BMT  Astoria       Q   \n",
       "2020-01-02  Astoria - Ditmars Blvd            N W      BMT  Astoria       Q   \n",
       "2020-01-03  Astoria - Ditmars Blvd            N W      BMT  Astoria       Q   \n",
       "2020-01-04  Astoria - Ditmars Blvd            N W      BMT  Astoria       Q   \n",
       "2020-01-05  Astoria - Ditmars Blvd            N W      BMT  Astoria       Q   \n",
       "...                            ...            ...      ...      ...     ...   \n",
       "2020-10-19              Journal Sq            NaN      PTH      NaN     NaN   \n",
       "2020-10-20              Journal Sq            NaN      PTH      NaN     NaN   \n",
       "2020-10-21              Journal Sq            NaN      PTH      NaN     NaN   \n",
       "2020-10-22              Journal Sq            NaN      PTH      NaN     NaN   \n",
       "2020-10-23              Journal Sq            NaN      PTH      NaN     NaN   \n",
       "\n",
       "           structure  gtfs_longitude  gtfs_latitude complex_id  entries  \\\n",
       "date                                                                      \n",
       "2020-01-01  Elevated      -73.912034      40.775036          1   5812.0   \n",
       "2020-01-02  Elevated      -73.912034      40.775036          1  15506.0   \n",
       "2020-01-03  Elevated      -73.912034      40.775036          1  15959.0   \n",
       "2020-01-04  Elevated      -73.912034      40.775036          1   9265.0   \n",
       "2020-01-05  Elevated      -73.912034      40.775036          1   7191.0   \n",
       "...              ...             ...            ...        ...      ...   \n",
       "2020-10-19       NaN      -74.068632      40.730304       R552   9500.0   \n",
       "2020-10-20       NaN      -74.068632      40.730304       R552  23744.0   \n",
       "2020-10-21       NaN      -74.068632      40.730304       R552  24057.0   \n",
       "2020-10-22       NaN      -74.068632      40.730304       R552   9761.0   \n",
       "2020-10-23       NaN      -74.068632      40.730304       R552   9842.0   \n",
       "\n",
       "              exits  day  month  year  \n",
       "date                                   \n",
       "2020-01-01   6659.0    1      1  2020  \n",
       "2020-01-02  14307.0    2      1  2020  \n",
       "2020-01-03  14500.0    3      1  2020  \n",
       "2020-01-04   9161.0    4      1  2020  \n",
       "2020-01-05   7743.0    5      1  2020  \n",
       "...             ...  ...    ...   ...  \n",
       "2020-10-19   8319.0   19     10  2020  \n",
       "2020-10-20  18923.0   20     10  2020  \n",
       "2020-10-21  19281.0   21     10  2020  \n",
       "2020-10-22   8563.0   22     10  2020  \n",
       "2020-10-23   8130.0   23     10  2020  \n",
       "\n",
       "[131654 rows x 14 columns]"
      ],
      "text/html": "<div>\n<style scoped>\n    .dataframe tbody tr th:only-of-type {\n        vertical-align: middle;\n    }\n\n    .dataframe tbody tr th {\n        vertical-align: top;\n    }\n\n    .dataframe thead th {\n        text-align: right;\n    }\n</style>\n<table border=\"1\" class=\"dataframe\">\n  <thead>\n    <tr style=\"text-align: right;\">\n      <th></th>\n      <th>stop_name</th>\n      <th>daytime_routes</th>\n      <th>division</th>\n      <th>line</th>\n      <th>borough</th>\n      <th>structure</th>\n      <th>gtfs_longitude</th>\n      <th>gtfs_latitude</th>\n      <th>complex_id</th>\n      <th>entries</th>\n      <th>exits</th>\n      <th>day</th>\n      <th>month</th>\n      <th>year</th>\n    </tr>\n    <tr>\n      <th>date</th>\n      <th></th>\n      <th></th>\n      <th></th>\n      <th></th>\n      <th></th>\n      <th></th>\n      <th></th>\n      <th></th>\n      <th></th>\n      <th></th>\n      <th></th>\n      <th></th>\n      <th></th>\n      <th></th>\n    </tr>\n  </thead>\n  <tbody>\n    <tr>\n      <th>2020-01-01</th>\n      <td>Astoria - Ditmars Blvd</td>\n      <td>N W</td>\n      <td>BMT</td>\n      <td>Astoria</td>\n      <td>Q</td>\n      <td>Elevated</td>\n      <td>-73.912034</td>\n      <td>40.775036</td>\n      <td>1</td>\n      <td>5812.0</td>\n      <td>6659.0</td>\n      <td>1</td>\n      <td>1</td>\n      <td>2020</td>\n    </tr>\n    <tr>\n      <th>2020-01-02</th>\n      <td>Astoria - Ditmars Blvd</td>\n      <td>N W</td>\n      <td>BMT</td>\n      <td>Astoria</td>\n      <td>Q</td>\n      <td>Elevated</td>\n      <td>-73.912034</td>\n      <td>40.775036</td>\n      <td>1</td>\n      <td>15506.0</td>\n      <td>14307.0</td>\n      <td>2</td>\n      <td>1</td>\n      <td>2020</td>\n    </tr>\n    <tr>\n      <th>2020-01-03</th>\n      <td>Astoria - Ditmars Blvd</td>\n      <td>N W</td>\n      <td>BMT</td>\n      <td>Astoria</td>\n      <td>Q</td>\n      <td>Elevated</td>\n      <td>-73.912034</td>\n      <td>40.775036</td>\n      <td>1</td>\n      <td>15959.0</td>\n      <td>14500.0</td>\n      <td>3</td>\n      <td>1</td>\n      <td>2020</td>\n    </tr>\n    <tr>\n      <th>2020-01-04</th>\n      <td>Astoria - Ditmars Blvd</td>\n      <td>N W</td>\n      <td>BMT</td>\n      <td>Astoria</td>\n      <td>Q</td>\n      <td>Elevated</td>\n      <td>-73.912034</td>\n      <td>40.775036</td>\n      <td>1</td>\n      <td>9265.0</td>\n      <td>9161.0</td>\n      <td>4</td>\n      <td>1</td>\n      <td>2020</td>\n    </tr>\n    <tr>\n      <th>2020-01-05</th>\n      <td>Astoria - Ditmars Blvd</td>\n      <td>N W</td>\n      <td>BMT</td>\n      <td>Astoria</td>\n      <td>Q</td>\n      <td>Elevated</td>\n      <td>-73.912034</td>\n      <td>40.775036</td>\n      <td>1</td>\n      <td>7191.0</td>\n      <td>7743.0</td>\n      <td>5</td>\n      <td>1</td>\n      <td>2020</td>\n    </tr>\n    <tr>\n      <th>...</th>\n      <td>...</td>\n      <td>...</td>\n      <td>...</td>\n      <td>...</td>\n      <td>...</td>\n      <td>...</td>\n      <td>...</td>\n      <td>...</td>\n      <td>...</td>\n      <td>...</td>\n      <td>...</td>\n      <td>...</td>\n      <td>...</td>\n      <td>...</td>\n    </tr>\n    <tr>\n      <th>2020-10-19</th>\n      <td>Journal Sq</td>\n      <td>NaN</td>\n      <td>PTH</td>\n      <td>NaN</td>\n      <td>NaN</td>\n      <td>NaN</td>\n      <td>-74.068632</td>\n      <td>40.730304</td>\n      <td>R552</td>\n      <td>9500.0</td>\n      <td>8319.0</td>\n      <td>19</td>\n      <td>10</td>\n      <td>2020</td>\n    </tr>\n    <tr>\n      <th>2020-10-20</th>\n      <td>Journal Sq</td>\n      <td>NaN</td>\n      <td>PTH</td>\n      <td>NaN</td>\n      <td>NaN</td>\n      <td>NaN</td>\n      <td>-74.068632</td>\n      <td>40.730304</td>\n      <td>R552</td>\n      <td>23744.0</td>\n      <td>18923.0</td>\n      <td>20</td>\n      <td>10</td>\n      <td>2020</td>\n    </tr>\n    <tr>\n      <th>2020-10-21</th>\n      <td>Journal Sq</td>\n      <td>NaN</td>\n      <td>PTH</td>\n      <td>NaN</td>\n      <td>NaN</td>\n      <td>NaN</td>\n      <td>-74.068632</td>\n      <td>40.730304</td>\n      <td>R552</td>\n      <td>24057.0</td>\n      <td>19281.0</td>\n      <td>21</td>\n      <td>10</td>\n      <td>2020</td>\n    </tr>\n    <tr>\n      <th>2020-10-22</th>\n      <td>Journal Sq</td>\n      <td>NaN</td>\n      <td>PTH</td>\n      <td>NaN</td>\n      <td>NaN</td>\n      <td>NaN</td>\n      <td>-74.068632</td>\n      <td>40.730304</td>\n      <td>R552</td>\n      <td>9761.0</td>\n      <td>8563.0</td>\n      <td>22</td>\n      <td>10</td>\n      <td>2020</td>\n    </tr>\n    <tr>\n      <th>2020-10-23</th>\n      <td>Journal Sq</td>\n      <td>NaN</td>\n      <td>PTH</td>\n      <td>NaN</td>\n      <td>NaN</td>\n      <td>NaN</td>\n      <td>-74.068632</td>\n      <td>40.730304</td>\n      <td>R552</td>\n      <td>9842.0</td>\n      <td>8130.0</td>\n      <td>23</td>\n      <td>10</td>\n      <td>2020</td>\n    </tr>\n  </tbody>\n</table>\n<p>131654 rows × 14 columns</p>\n</div>"
     },
     "metadata": {},
     "execution_count": 49
    }
   ],
   "source": [
    "mta_df = mta_df.set_index(['date'])\n",
    "\n",
    "mta_df.index = pd.to_datetime(mta_df.index)\n",
    "\n",
    "mta_df['day'] = mta_df.index.day\n",
    "mta_df['month'] = mta_df.index.month\n",
    "mta_df['year'] = mta_df.index.year\n",
    "\n",
    "mta_df"
   ]
  },
  {
   "cell_type": "code",
   "execution_count": 52,
   "metadata": {},
   "outputs": [
    {
     "output_type": "execute_result",
     "data": {
      "text/plain": [
       "             date               stop_name daytime_routes division     line  \\\n",
       "index                                                                        \n",
       "0      2020-01-01  Astoria - Ditmars Blvd            N W      BMT  Astoria   \n",
       "1      2020-01-02  Astoria - Ditmars Blvd            N W      BMT  Astoria   \n",
       "2      2020-01-03  Astoria - Ditmars Blvd            N W      BMT  Astoria   \n",
       "3      2020-01-04  Astoria - Ditmars Blvd            N W      BMT  Astoria   \n",
       "4      2020-01-05  Astoria - Ditmars Blvd            N W      BMT  Astoria   \n",
       "...           ...                     ...            ...      ...      ...   \n",
       "131649 2020-10-19              Journal Sq            NaN      PTH      NaN   \n",
       "131650 2020-10-20              Journal Sq            NaN      PTH      NaN   \n",
       "131651 2020-10-21              Journal Sq            NaN      PTH      NaN   \n",
       "131652 2020-10-22              Journal Sq            NaN      PTH      NaN   \n",
       "131653 2020-10-23              Journal Sq            NaN      PTH      NaN   \n",
       "\n",
       "       borough structure  gtfs_longitude  gtfs_latitude complex_id  entries  \\\n",
       "index                                                                         \n",
       "0            Q  Elevated      -73.912034      40.775036          1   5812.0   \n",
       "1            Q  Elevated      -73.912034      40.775036          1  15506.0   \n",
       "2            Q  Elevated      -73.912034      40.775036          1  15959.0   \n",
       "3            Q  Elevated      -73.912034      40.775036          1   9265.0   \n",
       "4            Q  Elevated      -73.912034      40.775036          1   7191.0   \n",
       "...        ...       ...             ...            ...        ...      ...   \n",
       "131649     NaN       NaN      -74.068632      40.730304       R552   9500.0   \n",
       "131650     NaN       NaN      -74.068632      40.730304       R552  23744.0   \n",
       "131651     NaN       NaN      -74.068632      40.730304       R552  24057.0   \n",
       "131652     NaN       NaN      -74.068632      40.730304       R552   9761.0   \n",
       "131653     NaN       NaN      -74.068632      40.730304       R552   9842.0   \n",
       "\n",
       "          exits  day  month  year  \n",
       "index                              \n",
       "0        6659.0    1      1  2020  \n",
       "1       14307.0    2      1  2020  \n",
       "2       14500.0    3      1  2020  \n",
       "3        9161.0    4      1  2020  \n",
       "4        7743.0    5      1  2020  \n",
       "...         ...  ...    ...   ...  \n",
       "131649   8319.0   19     10  2020  \n",
       "131650  18923.0   20     10  2020  \n",
       "131651  19281.0   21     10  2020  \n",
       "131652   8563.0   22     10  2020  \n",
       "131653   8130.0   23     10  2020  \n",
       "\n",
       "[131654 rows x 15 columns]"
      ],
      "text/html": "<div>\n<style scoped>\n    .dataframe tbody tr th:only-of-type {\n        vertical-align: middle;\n    }\n\n    .dataframe tbody tr th {\n        vertical-align: top;\n    }\n\n    .dataframe thead th {\n        text-align: right;\n    }\n</style>\n<table border=\"1\" class=\"dataframe\">\n  <thead>\n    <tr style=\"text-align: right;\">\n      <th></th>\n      <th>date</th>\n      <th>stop_name</th>\n      <th>daytime_routes</th>\n      <th>division</th>\n      <th>line</th>\n      <th>borough</th>\n      <th>structure</th>\n      <th>gtfs_longitude</th>\n      <th>gtfs_latitude</th>\n      <th>complex_id</th>\n      <th>entries</th>\n      <th>exits</th>\n      <th>day</th>\n      <th>month</th>\n      <th>year</th>\n    </tr>\n    <tr>\n      <th>index</th>\n      <th></th>\n      <th></th>\n      <th></th>\n      <th></th>\n      <th></th>\n      <th></th>\n      <th></th>\n      <th></th>\n      <th></th>\n      <th></th>\n      <th></th>\n      <th></th>\n      <th></th>\n      <th></th>\n      <th></th>\n    </tr>\n  </thead>\n  <tbody>\n    <tr>\n      <th>0</th>\n      <td>2020-01-01</td>\n      <td>Astoria - Ditmars Blvd</td>\n      <td>N W</td>\n      <td>BMT</td>\n      <td>Astoria</td>\n      <td>Q</td>\n      <td>Elevated</td>\n      <td>-73.912034</td>\n      <td>40.775036</td>\n      <td>1</td>\n      <td>5812.0</td>\n      <td>6659.0</td>\n      <td>1</td>\n      <td>1</td>\n      <td>2020</td>\n    </tr>\n    <tr>\n      <th>1</th>\n      <td>2020-01-02</td>\n      <td>Astoria - Ditmars Blvd</td>\n      <td>N W</td>\n      <td>BMT</td>\n      <td>Astoria</td>\n      <td>Q</td>\n      <td>Elevated</td>\n      <td>-73.912034</td>\n      <td>40.775036</td>\n      <td>1</td>\n      <td>15506.0</td>\n      <td>14307.0</td>\n      <td>2</td>\n      <td>1</td>\n      <td>2020</td>\n    </tr>\n    <tr>\n      <th>2</th>\n      <td>2020-01-03</td>\n      <td>Astoria - Ditmars Blvd</td>\n      <td>N W</td>\n      <td>BMT</td>\n      <td>Astoria</td>\n      <td>Q</td>\n      <td>Elevated</td>\n      <td>-73.912034</td>\n      <td>40.775036</td>\n      <td>1</td>\n      <td>15959.0</td>\n      <td>14500.0</td>\n      <td>3</td>\n      <td>1</td>\n      <td>2020</td>\n    </tr>\n    <tr>\n      <th>3</th>\n      <td>2020-01-04</td>\n      <td>Astoria - Ditmars Blvd</td>\n      <td>N W</td>\n      <td>BMT</td>\n      <td>Astoria</td>\n      <td>Q</td>\n      <td>Elevated</td>\n      <td>-73.912034</td>\n      <td>40.775036</td>\n      <td>1</td>\n      <td>9265.0</td>\n      <td>9161.0</td>\n      <td>4</td>\n      <td>1</td>\n      <td>2020</td>\n    </tr>\n    <tr>\n      <th>4</th>\n      <td>2020-01-05</td>\n      <td>Astoria - Ditmars Blvd</td>\n      <td>N W</td>\n      <td>BMT</td>\n      <td>Astoria</td>\n      <td>Q</td>\n      <td>Elevated</td>\n      <td>-73.912034</td>\n      <td>40.775036</td>\n      <td>1</td>\n      <td>7191.0</td>\n      <td>7743.0</td>\n      <td>5</td>\n      <td>1</td>\n      <td>2020</td>\n    </tr>\n    <tr>\n      <th>...</th>\n      <td>...</td>\n      <td>...</td>\n      <td>...</td>\n      <td>...</td>\n      <td>...</td>\n      <td>...</td>\n      <td>...</td>\n      <td>...</td>\n      <td>...</td>\n      <td>...</td>\n      <td>...</td>\n      <td>...</td>\n      <td>...</td>\n      <td>...</td>\n      <td>...</td>\n    </tr>\n    <tr>\n      <th>131649</th>\n      <td>2020-10-19</td>\n      <td>Journal Sq</td>\n      <td>NaN</td>\n      <td>PTH</td>\n      <td>NaN</td>\n      <td>NaN</td>\n      <td>NaN</td>\n      <td>-74.068632</td>\n      <td>40.730304</td>\n      <td>R552</td>\n      <td>9500.0</td>\n      <td>8319.0</td>\n      <td>19</td>\n      <td>10</td>\n      <td>2020</td>\n    </tr>\n    <tr>\n      <th>131650</th>\n      <td>2020-10-20</td>\n      <td>Journal Sq</td>\n      <td>NaN</td>\n      <td>PTH</td>\n      <td>NaN</td>\n      <td>NaN</td>\n      <td>NaN</td>\n      <td>-74.068632</td>\n      <td>40.730304</td>\n      <td>R552</td>\n      <td>23744.0</td>\n      <td>18923.0</td>\n      <td>20</td>\n      <td>10</td>\n      <td>2020</td>\n    </tr>\n    <tr>\n      <th>131651</th>\n      <td>2020-10-21</td>\n      <td>Journal Sq</td>\n      <td>NaN</td>\n      <td>PTH</td>\n      <td>NaN</td>\n      <td>NaN</td>\n      <td>NaN</td>\n      <td>-74.068632</td>\n      <td>40.730304</td>\n      <td>R552</td>\n      <td>24057.0</td>\n      <td>19281.0</td>\n      <td>21</td>\n      <td>10</td>\n      <td>2020</td>\n    </tr>\n    <tr>\n      <th>131652</th>\n      <td>2020-10-22</td>\n      <td>Journal Sq</td>\n      <td>NaN</td>\n      <td>PTH</td>\n      <td>NaN</td>\n      <td>NaN</td>\n      <td>NaN</td>\n      <td>-74.068632</td>\n      <td>40.730304</td>\n      <td>R552</td>\n      <td>9761.0</td>\n      <td>8563.0</td>\n      <td>22</td>\n      <td>10</td>\n      <td>2020</td>\n    </tr>\n    <tr>\n      <th>131653</th>\n      <td>2020-10-23</td>\n      <td>Journal Sq</td>\n      <td>NaN</td>\n      <td>PTH</td>\n      <td>NaN</td>\n      <td>NaN</td>\n      <td>NaN</td>\n      <td>-74.068632</td>\n      <td>40.730304</td>\n      <td>R552</td>\n      <td>9842.0</td>\n      <td>8130.0</td>\n      <td>23</td>\n      <td>10</td>\n      <td>2020</td>\n    </tr>\n  </tbody>\n</table>\n<p>131654 rows × 15 columns</p>\n</div>"
     },
     "metadata": {},
     "execution_count": 52
    }
   ],
   "source": [
    "mta_df = mta_df.set_index(['index'])\n",
    "\n",
    "mta_df"
   ]
  },
  {
   "cell_type": "code",
   "execution_count": 53,
   "metadata": {},
   "outputs": [
    {
     "output_type": "execute_result",
     "data": {
      "text/plain": [
       "month\n",
       "1     10585.871201\n",
       "2     10598.949556\n",
       "3      5601.157780\n",
       "4       949.943926\n",
       "5      1186.536939\n",
       "6      1874.057057\n",
       "7      2423.552630\n",
       "8      2585.069881\n",
       "9      3204.579378\n",
       "10     3474.467256\n",
       "Name: entries, dtype: float64"
      ]
     },
     "metadata": {},
     "execution_count": 53
    }
   ],
   "source": [
    "mta_month_mean = mta_df.groupby(mta_df['month'])['entries'].mean()\n",
    "\n",
    "mta_month_mean"
   ]
  },
  {
   "cell_type": "code",
   "execution_count": 54,
   "metadata": {},
   "outputs": [
    {
     "output_type": "execute_result",
     "data": {
      "text/plain": [
       "<function matplotlib.pyplot.show(close=None, block=None)>"
      ]
     },
     "metadata": {},
     "execution_count": 54
    },
    {
     "output_type": "display_data",
     "data": {
      "text/plain": "<Figure size 432x288 with 1 Axes>",
      "image/svg+xml": "<?xml version=\"1.0\" encoding=\"utf-8\" standalone=\"no\"?>\r\n<!DOCTYPE svg PUBLIC \"-//W3C//DTD SVG 1.1//EN\"\r\n  \"http://www.w3.org/Graphics/SVG/1.1/DTD/svg11.dtd\">\r\n<!-- Created with matplotlib (https://matplotlib.org/) -->\r\n<svg height=\"248.518125pt\" version=\"1.1\" viewBox=\"0 0 388.0125 248.518125\" width=\"388.0125pt\" xmlns=\"http://www.w3.org/2000/svg\" xmlns:xlink=\"http://www.w3.org/1999/xlink\">\r\n <metadata>\r\n  <rdf:RDF xmlns:cc=\"http://creativecommons.org/ns#\" xmlns:dc=\"http://purl.org/dc/elements/1.1/\" xmlns:rdf=\"http://www.w3.org/1999/02/22-rdf-syntax-ns#\">\r\n   <cc:Work>\r\n    <dc:type rdf:resource=\"http://purl.org/dc/dcmitype/StillImage\"/>\r\n    <dc:date>2020-10-31T12:37:02.772770</dc:date>\r\n    <dc:format>image/svg+xml</dc:format>\r\n    <dc:creator>\r\n     <cc:Agent>\r\n      <dc:title>Matplotlib v3.3.1, https://matplotlib.org/</dc:title>\r\n     </cc:Agent>\r\n    </dc:creator>\r\n   </cc:Work>\r\n  </rdf:RDF>\r\n </metadata>\r\n <defs>\r\n  <style type=\"text/css\">*{stroke-linecap:butt;stroke-linejoin:round;}</style>\r\n </defs>\r\n <g id=\"figure_1\">\r\n  <g id=\"patch_1\">\r\n   <path d=\"M 0 248.518125 \r\nL 388.0125 248.518125 \r\nL 388.0125 0 \r\nL 0 0 \r\nz\r\n\" style=\"fill:none;\"/>\r\n  </g>\r\n  <g id=\"axes_1\">\r\n   <g id=\"patch_2\">\r\n    <path d=\"M 46.0125 224.64 \r\nL 380.8125 224.64 \r\nL 380.8125 7.2 \r\nL 46.0125 7.2 \r\nz\r\n\" style=\"fill:#ffffff;\"/>\r\n   </g>\r\n   <g id=\"matplotlib.axis_1\">\r\n    <g id=\"xtick_1\">\r\n     <g id=\"line2d_1\">\r\n      <defs>\r\n       <path d=\"M 0 0 \r\nL 0 3.5 \r\n\" id=\"m9bd9d7c916\" style=\"stroke:#000000;stroke-width:0.8;\"/>\r\n      </defs>\r\n      <g>\r\n       <use style=\"stroke:#000000;stroke-width:0.8;\" x=\"95.048864\" xlink:href=\"#m9bd9d7c916\" y=\"224.64\"/>\r\n      </g>\r\n     </g>\r\n     <g id=\"text_1\">\r\n      <!-- 2 -->\r\n      <g transform=\"translate(91.867614 239.238437)scale(0.1 -0.1)\">\r\n       <defs>\r\n        <path d=\"M 19.1875 8.296875 \r\nL 53.609375 8.296875 \r\nL 53.609375 0 \r\nL 7.328125 0 \r\nL 7.328125 8.296875 \r\nQ 12.9375 14.109375 22.625 23.890625 \r\nQ 32.328125 33.6875 34.8125 36.53125 \r\nQ 39.546875 41.84375 41.421875 45.53125 \r\nQ 43.3125 49.21875 43.3125 52.78125 \r\nQ 43.3125 58.59375 39.234375 62.25 \r\nQ 35.15625 65.921875 28.609375 65.921875 \r\nQ 23.96875 65.921875 18.8125 64.3125 \r\nQ 13.671875 62.703125 7.8125 59.421875 \r\nL 7.8125 69.390625 \r\nQ 13.765625 71.78125 18.9375 73 \r\nQ 24.125 74.21875 28.421875 74.21875 \r\nQ 39.75 74.21875 46.484375 68.546875 \r\nQ 53.21875 62.890625 53.21875 53.421875 \r\nQ 53.21875 48.921875 51.53125 44.890625 \r\nQ 49.859375 40.875 45.40625 35.40625 \r\nQ 44.1875 33.984375 37.640625 27.21875 \r\nQ 31.109375 20.453125 19.1875 8.296875 \r\nz\r\n\" id=\"DejaVuSans-50\"/>\r\n       </defs>\r\n       <use xlink:href=\"#DejaVuSans-50\"/>\r\n      </g>\r\n     </g>\r\n    </g>\r\n    <g id=\"xtick_2\">\r\n     <g id=\"line2d_2\">\r\n      <g>\r\n       <use style=\"stroke:#000000;stroke-width:0.8;\" x=\"162.685227\" xlink:href=\"#m9bd9d7c916\" y=\"224.64\"/>\r\n      </g>\r\n     </g>\r\n     <g id=\"text_2\">\r\n      <!-- 4 -->\r\n      <g transform=\"translate(159.503977 239.238437)scale(0.1 -0.1)\">\r\n       <defs>\r\n        <path d=\"M 37.796875 64.3125 \r\nL 12.890625 25.390625 \r\nL 37.796875 25.390625 \r\nz\r\nM 35.203125 72.90625 \r\nL 47.609375 72.90625 \r\nL 47.609375 25.390625 \r\nL 58.015625 25.390625 \r\nL 58.015625 17.1875 \r\nL 47.609375 17.1875 \r\nL 47.609375 0 \r\nL 37.796875 0 \r\nL 37.796875 17.1875 \r\nL 4.890625 17.1875 \r\nL 4.890625 26.703125 \r\nz\r\n\" id=\"DejaVuSans-52\"/>\r\n       </defs>\r\n       <use xlink:href=\"#DejaVuSans-52\"/>\r\n      </g>\r\n     </g>\r\n    </g>\r\n    <g id=\"xtick_3\">\r\n     <g id=\"line2d_3\">\r\n      <g>\r\n       <use style=\"stroke:#000000;stroke-width:0.8;\" x=\"230.321591\" xlink:href=\"#m9bd9d7c916\" y=\"224.64\"/>\r\n      </g>\r\n     </g>\r\n     <g id=\"text_3\">\r\n      <!-- 6 -->\r\n      <g transform=\"translate(227.140341 239.238437)scale(0.1 -0.1)\">\r\n       <defs>\r\n        <path d=\"M 33.015625 40.375 \r\nQ 26.375 40.375 22.484375 35.828125 \r\nQ 18.609375 31.296875 18.609375 23.390625 \r\nQ 18.609375 15.53125 22.484375 10.953125 \r\nQ 26.375 6.390625 33.015625 6.390625 \r\nQ 39.65625 6.390625 43.53125 10.953125 \r\nQ 47.40625 15.53125 47.40625 23.390625 \r\nQ 47.40625 31.296875 43.53125 35.828125 \r\nQ 39.65625 40.375 33.015625 40.375 \r\nz\r\nM 52.59375 71.296875 \r\nL 52.59375 62.3125 \r\nQ 48.875 64.0625 45.09375 64.984375 \r\nQ 41.3125 65.921875 37.59375 65.921875 \r\nQ 27.828125 65.921875 22.671875 59.328125 \r\nQ 17.53125 52.734375 16.796875 39.40625 \r\nQ 19.671875 43.65625 24.015625 45.921875 \r\nQ 28.375 48.1875 33.59375 48.1875 \r\nQ 44.578125 48.1875 50.953125 41.515625 \r\nQ 57.328125 34.859375 57.328125 23.390625 \r\nQ 57.328125 12.15625 50.6875 5.359375 \r\nQ 44.046875 -1.421875 33.015625 -1.421875 \r\nQ 20.359375 -1.421875 13.671875 8.265625 \r\nQ 6.984375 17.96875 6.984375 36.375 \r\nQ 6.984375 53.65625 15.1875 63.9375 \r\nQ 23.390625 74.21875 37.203125 74.21875 \r\nQ 40.921875 74.21875 44.703125 73.484375 \r\nQ 48.484375 72.75 52.59375 71.296875 \r\nz\r\n\" id=\"DejaVuSans-54\"/>\r\n       </defs>\r\n       <use xlink:href=\"#DejaVuSans-54\"/>\r\n      </g>\r\n     </g>\r\n    </g>\r\n    <g id=\"xtick_4\">\r\n     <g id=\"line2d_4\">\r\n      <g>\r\n       <use style=\"stroke:#000000;stroke-width:0.8;\" x=\"297.957955\" xlink:href=\"#m9bd9d7c916\" y=\"224.64\"/>\r\n      </g>\r\n     </g>\r\n     <g id=\"text_4\">\r\n      <!-- 8 -->\r\n      <g transform=\"translate(294.776705 239.238437)scale(0.1 -0.1)\">\r\n       <defs>\r\n        <path d=\"M 31.78125 34.625 \r\nQ 24.75 34.625 20.71875 30.859375 \r\nQ 16.703125 27.09375 16.703125 20.515625 \r\nQ 16.703125 13.921875 20.71875 10.15625 \r\nQ 24.75 6.390625 31.78125 6.390625 \r\nQ 38.8125 6.390625 42.859375 10.171875 \r\nQ 46.921875 13.96875 46.921875 20.515625 \r\nQ 46.921875 27.09375 42.890625 30.859375 \r\nQ 38.875 34.625 31.78125 34.625 \r\nz\r\nM 21.921875 38.8125 \r\nQ 15.578125 40.375 12.03125 44.71875 \r\nQ 8.5 49.078125 8.5 55.328125 \r\nQ 8.5 64.0625 14.71875 69.140625 \r\nQ 20.953125 74.21875 31.78125 74.21875 \r\nQ 42.671875 74.21875 48.875 69.140625 \r\nQ 55.078125 64.0625 55.078125 55.328125 \r\nQ 55.078125 49.078125 51.53125 44.71875 \r\nQ 48 40.375 41.703125 38.8125 \r\nQ 48.828125 37.15625 52.796875 32.3125 \r\nQ 56.78125 27.484375 56.78125 20.515625 \r\nQ 56.78125 9.90625 50.3125 4.234375 \r\nQ 43.84375 -1.421875 31.78125 -1.421875 \r\nQ 19.734375 -1.421875 13.25 4.234375 \r\nQ 6.78125 9.90625 6.78125 20.515625 \r\nQ 6.78125 27.484375 10.78125 32.3125 \r\nQ 14.796875 37.15625 21.921875 38.8125 \r\nz\r\nM 18.3125 54.390625 \r\nQ 18.3125 48.734375 21.84375 45.5625 \r\nQ 25.390625 42.390625 31.78125 42.390625 \r\nQ 38.140625 42.390625 41.71875 45.5625 \r\nQ 45.3125 48.734375 45.3125 54.390625 \r\nQ 45.3125 60.0625 41.71875 63.234375 \r\nQ 38.140625 66.40625 31.78125 66.40625 \r\nQ 25.390625 66.40625 21.84375 63.234375 \r\nQ 18.3125 60.0625 18.3125 54.390625 \r\nz\r\n\" id=\"DejaVuSans-56\"/>\r\n       </defs>\r\n       <use xlink:href=\"#DejaVuSans-56\"/>\r\n      </g>\r\n     </g>\r\n    </g>\r\n    <g id=\"xtick_5\">\r\n     <g id=\"line2d_5\">\r\n      <g>\r\n       <use style=\"stroke:#000000;stroke-width:0.8;\" x=\"365.594318\" xlink:href=\"#m9bd9d7c916\" y=\"224.64\"/>\r\n      </g>\r\n     </g>\r\n     <g id=\"text_5\">\r\n      <!-- 10 -->\r\n      <g transform=\"translate(359.231818 239.238437)scale(0.1 -0.1)\">\r\n       <defs>\r\n        <path d=\"M 12.40625 8.296875 \r\nL 28.515625 8.296875 \r\nL 28.515625 63.921875 \r\nL 10.984375 60.40625 \r\nL 10.984375 69.390625 \r\nL 28.421875 72.90625 \r\nL 38.28125 72.90625 \r\nL 38.28125 8.296875 \r\nL 54.390625 8.296875 \r\nL 54.390625 0 \r\nL 12.40625 0 \r\nz\r\n\" id=\"DejaVuSans-49\"/>\r\n        <path d=\"M 31.78125 66.40625 \r\nQ 24.171875 66.40625 20.328125 58.90625 \r\nQ 16.5 51.421875 16.5 36.375 \r\nQ 16.5 21.390625 20.328125 13.890625 \r\nQ 24.171875 6.390625 31.78125 6.390625 \r\nQ 39.453125 6.390625 43.28125 13.890625 \r\nQ 47.125 21.390625 47.125 36.375 \r\nQ 47.125 51.421875 43.28125 58.90625 \r\nQ 39.453125 66.40625 31.78125 66.40625 \r\nz\r\nM 31.78125 74.21875 \r\nQ 44.046875 74.21875 50.515625 64.515625 \r\nQ 56.984375 54.828125 56.984375 36.375 \r\nQ 56.984375 17.96875 50.515625 8.265625 \r\nQ 44.046875 -1.421875 31.78125 -1.421875 \r\nQ 19.53125 -1.421875 13.0625 8.265625 \r\nQ 6.59375 17.96875 6.59375 36.375 \r\nQ 6.59375 54.828125 13.0625 64.515625 \r\nQ 19.53125 74.21875 31.78125 74.21875 \r\nz\r\n\" id=\"DejaVuSans-48\"/>\r\n       </defs>\r\n       <use xlink:href=\"#DejaVuSans-49\"/>\r\n       <use x=\"63.623047\" xlink:href=\"#DejaVuSans-48\"/>\r\n      </g>\r\n     </g>\r\n    </g>\r\n   </g>\r\n   <g id=\"matplotlib.axis_2\">\r\n    <g id=\"ytick_1\">\r\n     <g id=\"line2d_6\">\r\n      <defs>\r\n       <path d=\"M 0 0 \r\nL -3.5 0 \r\n\" id=\"m966ae91684\" style=\"stroke:#000000;stroke-width:0.8;\"/>\r\n      </defs>\r\n      <g>\r\n       <use style=\"stroke:#000000;stroke-width:0.8;\" x=\"46.0125\" xlink:href=\"#m966ae91684\" y=\"193.244567\"/>\r\n      </g>\r\n     </g>\r\n     <g id=\"text_6\">\r\n      <!-- 2000 -->\r\n      <g transform=\"translate(13.5625 197.043786)scale(0.1 -0.1)\">\r\n       <use xlink:href=\"#DejaVuSans-50\"/>\r\n       <use x=\"63.623047\" xlink:href=\"#DejaVuSans-48\"/>\r\n       <use x=\"127.246094\" xlink:href=\"#DejaVuSans-48\"/>\r\n       <use x=\"190.869141\" xlink:href=\"#DejaVuSans-48\"/>\r\n      </g>\r\n     </g>\r\n    </g>\r\n    <g id=\"ytick_2\">\r\n     <g id=\"line2d_7\">\r\n      <g>\r\n       <use style=\"stroke:#000000;stroke-width:0.8;\" x=\"46.0125\" xlink:href=\"#m966ae91684\" y=\"152.271904\"/>\r\n      </g>\r\n     </g>\r\n     <g id=\"text_7\">\r\n      <!-- 4000 -->\r\n      <g transform=\"translate(13.5625 156.071123)scale(0.1 -0.1)\">\r\n       <use xlink:href=\"#DejaVuSans-52\"/>\r\n       <use x=\"63.623047\" xlink:href=\"#DejaVuSans-48\"/>\r\n       <use x=\"127.246094\" xlink:href=\"#DejaVuSans-48\"/>\r\n       <use x=\"190.869141\" xlink:href=\"#DejaVuSans-48\"/>\r\n      </g>\r\n     </g>\r\n    </g>\r\n    <g id=\"ytick_3\">\r\n     <g id=\"line2d_8\">\r\n      <g>\r\n       <use style=\"stroke:#000000;stroke-width:0.8;\" x=\"46.0125\" xlink:href=\"#m966ae91684\" y=\"111.299241\"/>\r\n      </g>\r\n     </g>\r\n     <g id=\"text_8\">\r\n      <!-- 6000 -->\r\n      <g transform=\"translate(13.5625 115.09846)scale(0.1 -0.1)\">\r\n       <use xlink:href=\"#DejaVuSans-54\"/>\r\n       <use x=\"63.623047\" xlink:href=\"#DejaVuSans-48\"/>\r\n       <use x=\"127.246094\" xlink:href=\"#DejaVuSans-48\"/>\r\n       <use x=\"190.869141\" xlink:href=\"#DejaVuSans-48\"/>\r\n      </g>\r\n     </g>\r\n    </g>\r\n    <g id=\"ytick_4\">\r\n     <g id=\"line2d_9\">\r\n      <g>\r\n       <use style=\"stroke:#000000;stroke-width:0.8;\" x=\"46.0125\" xlink:href=\"#m966ae91684\" y=\"70.326578\"/>\r\n      </g>\r\n     </g>\r\n     <g id=\"text_9\">\r\n      <!-- 8000 -->\r\n      <g transform=\"translate(13.5625 74.125797)scale(0.1 -0.1)\">\r\n       <use xlink:href=\"#DejaVuSans-56\"/>\r\n       <use x=\"63.623047\" xlink:href=\"#DejaVuSans-48\"/>\r\n       <use x=\"127.246094\" xlink:href=\"#DejaVuSans-48\"/>\r\n       <use x=\"190.869141\" xlink:href=\"#DejaVuSans-48\"/>\r\n      </g>\r\n     </g>\r\n    </g>\r\n    <g id=\"ytick_5\">\r\n     <g id=\"line2d_10\">\r\n      <g>\r\n       <use style=\"stroke:#000000;stroke-width:0.8;\" x=\"46.0125\" xlink:href=\"#m966ae91684\" y=\"29.353915\"/>\r\n      </g>\r\n     </g>\r\n     <g id=\"text_10\">\r\n      <!-- 10000 -->\r\n      <g transform=\"translate(7.2 33.153134)scale(0.1 -0.1)\">\r\n       <use xlink:href=\"#DejaVuSans-49\"/>\r\n       <use x=\"63.623047\" xlink:href=\"#DejaVuSans-48\"/>\r\n       <use x=\"127.246094\" xlink:href=\"#DejaVuSans-48\"/>\r\n       <use x=\"190.869141\" xlink:href=\"#DejaVuSans-48\"/>\r\n       <use x=\"254.492188\" xlink:href=\"#DejaVuSans-48\"/>\r\n      </g>\r\n     </g>\r\n    </g>\r\n   </g>\r\n   <g id=\"line2d_11\">\r\n    <path clip-path=\"url(#pbd93033ad1)\" d=\"M 61.230682 17.351564 \r\nL 95.048864 17.083636 \r\nL 128.867045 119.470055 \r\nL 162.685227 214.756364 \r\nL 196.503409 209.909441 \r\nL 230.321591 195.824676 \r\nL 264.139773 184.567527 \r\nL 297.957955 181.258631 \r\nL 331.776136 168.567155 \r\nL 365.594318 163.038142 \r\n\" style=\"fill:none;stroke:#1f77b4;stroke-linecap:square;stroke-width:1.5;\"/>\r\n   </g>\r\n   <g id=\"patch_3\">\r\n    <path d=\"M 46.0125 224.64 \r\nL 46.0125 7.2 \r\n\" style=\"fill:none;stroke:#000000;stroke-linecap:square;stroke-linejoin:miter;stroke-width:0.8;\"/>\r\n   </g>\r\n   <g id=\"patch_4\">\r\n    <path d=\"M 380.8125 224.64 \r\nL 380.8125 7.2 \r\n\" style=\"fill:none;stroke:#000000;stroke-linecap:square;stroke-linejoin:miter;stroke-width:0.8;\"/>\r\n   </g>\r\n   <g id=\"patch_5\">\r\n    <path d=\"M 46.0125 224.64 \r\nL 380.8125 224.64 \r\n\" style=\"fill:none;stroke:#000000;stroke-linecap:square;stroke-linejoin:miter;stroke-width:0.8;\"/>\r\n   </g>\r\n   <g id=\"patch_6\">\r\n    <path d=\"M 46.0125 7.2 \r\nL 380.8125 7.2 \r\n\" style=\"fill:none;stroke:#000000;stroke-linecap:square;stroke-linejoin:miter;stroke-width:0.8;\"/>\r\n   </g>\r\n  </g>\r\n </g>\r\n <defs>\r\n  <clipPath id=\"pbd93033ad1\">\r\n   <rect height=\"217.44\" width=\"334.8\" x=\"46.0125\" y=\"7.2\"/>\r\n  </clipPath>\r\n </defs>\r\n</svg>\r\n",
      "image/png": "[encoded data removed]"
     },
     "metadata": {
      "needs_background": "light"
     }
    }
   ],
   "source": [
    "plt.plot(mta_month_mean)\n",
    "plt.show"
   ]
  }
 ]
}